{
 "cells": [
  {
   "cell_type": "code",
   "execution_count": 57,
   "metadata": {
    "id": "DSiKA8EQ820i"
   },
   "outputs": [
    {
     "name": "stderr",
     "output_type": "stream",
     "text": [
      "[nltk_data] Downloading package stopwords to\n",
      "[nltk_data]     C:\\Users\\andre\\AppData\\Roaming\\nltk_data...\n",
      "[nltk_data]   Package stopwords is already up-to-date!\n",
      "[nltk_data] Downloading package wordnet to\n",
      "[nltk_data]     C:\\Users\\andre\\AppData\\Roaming\\nltk_data...\n",
      "[nltk_data]   Package wordnet is already up-to-date!\n",
      "[nltk_data] Downloading package omw-1.4 to\n",
      "[nltk_data]     C:\\Users\\andre\\AppData\\Roaming\\nltk_data...\n",
      "[nltk_data]   Package omw-1.4 is already up-to-date!\n"
     ]
    },
    {
     "data": {
      "text/plain": [
       "True"
      ]
     },
     "execution_count": 57,
     "metadata": {},
     "output_type": "execute_result"
    }
   ],
   "source": [
    "# utilities\n",
    "import re\n",
    "import numpy as np\n",
    "import pandas as pd\n",
    "import string\n",
    "# plotting\n",
    "import seaborn as sns\n",
    "#from wordcloud import WordCloud\n",
    "import matplotlib.pyplot as plt\n",
    "# nltk\n",
    "import nltk\n",
    "from nltk.stem import WordNetLemmatizer\n",
    "# sklearn\n",
    "from sklearn.svm import LinearSVC\n",
    "from sklearn.naive_bayes import BernoulliNB\n",
    "from sklearn.linear_model import LogisticRegression\n",
    "from sklearn.model_selection import train_test_split\n",
    "from sklearn.feature_extraction.text import TfidfVectorizer\n",
    "from sklearn.metrics import confusion_matrix, classification_report\n",
    "\n",
    "nltk.download('stopwords')\n",
    "nltk.download('wordnet')\n",
    "nltk.download('omw-1.4')\n"
   ]
  },
  {
   "cell_type": "code",
   "execution_count": 58,
   "metadata": {
    "colab": {
     "base_uri": "https://localhost:8080/",
     "height": 223
    },
    "id": "7xKWxggU9Rkr",
    "outputId": "94f881d9-488b-43e2-aed7-8f270c2c5654"
   },
   "outputs": [],
   "source": [
    "# Setup data set\n",
    "#from google.colab import drive\n",
    "#drive.mount(\"/content/gdrive\")\n",
    "\n",
    "## load tweets from Google drive\n",
    "#DATASET_COLUMNS=['target','ids','date','flag','user','text']\n",
    "#DATASET_ENCODING = \"ISO-8859-1\"\n",
    "#df = pd.read_csv(\"/content/gdrive/My Drive/final_project_tweets.csv\", encoding=DATASET_ENCODING, names=DATASET_COLUMNS)\n",
    "\n",
    "#df.sample(5)"
   ]
  },
  {
   "cell_type": "code",
   "execution_count": 59,
   "metadata": {},
   "outputs": [
    {
     "data": {
      "text/html": [
       "<div>\n",
       "<style scoped>\n",
       "    .dataframe tbody tr th:only-of-type {\n",
       "        vertical-align: middle;\n",
       "    }\n",
       "\n",
       "    .dataframe tbody tr th {\n",
       "        vertical-align: top;\n",
       "    }\n",
       "\n",
       "    .dataframe thead th {\n",
       "        text-align: right;\n",
       "    }\n",
       "</style>\n",
       "<table border=\"1\" class=\"dataframe\">\n",
       "  <thead>\n",
       "    <tr style=\"text-align: right;\">\n",
       "      <th></th>\n",
       "      <th>target</th>\n",
       "      <th>ids</th>\n",
       "      <th>date</th>\n",
       "      <th>flag</th>\n",
       "      <th>user</th>\n",
       "      <th>text</th>\n",
       "    </tr>\n",
       "  </thead>\n",
       "  <tbody>\n",
       "    <tr>\n",
       "      <th>0</th>\n",
       "      <td>0</td>\n",
       "      <td>1467810369</td>\n",
       "      <td>Mon Apr 06 22:19:45 PDT 2009</td>\n",
       "      <td>NO_QUERY</td>\n",
       "      <td>_TheSpecialOne_</td>\n",
       "      <td>@switchfoot http://twitpic.com/2y1zl - Awww, t...</td>\n",
       "    </tr>\n",
       "    <tr>\n",
       "      <th>1</th>\n",
       "      <td>0</td>\n",
       "      <td>1467810672</td>\n",
       "      <td>Mon Apr 06 22:19:49 PDT 2009</td>\n",
       "      <td>NO_QUERY</td>\n",
       "      <td>scotthamilton</td>\n",
       "      <td>is upset that he can't update his Facebook by ...</td>\n",
       "    </tr>\n",
       "    <tr>\n",
       "      <th>2</th>\n",
       "      <td>0</td>\n",
       "      <td>1467810917</td>\n",
       "      <td>Mon Apr 06 22:19:53 PDT 2009</td>\n",
       "      <td>NO_QUERY</td>\n",
       "      <td>mattycus</td>\n",
       "      <td>@Kenichan I dived many times for the ball. Man...</td>\n",
       "    </tr>\n",
       "    <tr>\n",
       "      <th>3</th>\n",
       "      <td>0</td>\n",
       "      <td>1467811184</td>\n",
       "      <td>Mon Apr 06 22:19:57 PDT 2009</td>\n",
       "      <td>NO_QUERY</td>\n",
       "      <td>ElleCTF</td>\n",
       "      <td>my whole body feels itchy and like its on fire</td>\n",
       "    </tr>\n",
       "    <tr>\n",
       "      <th>4</th>\n",
       "      <td>0</td>\n",
       "      <td>1467811193</td>\n",
       "      <td>Mon Apr 06 22:19:57 PDT 2009</td>\n",
       "      <td>NO_QUERY</td>\n",
       "      <td>Karoli</td>\n",
       "      <td>@nationwideclass no, it's not behaving at all....</td>\n",
       "    </tr>\n",
       "    <tr>\n",
       "      <th>...</th>\n",
       "      <td>...</td>\n",
       "      <td>...</td>\n",
       "      <td>...</td>\n",
       "      <td>...</td>\n",
       "      <td>...</td>\n",
       "      <td>...</td>\n",
       "    </tr>\n",
       "    <tr>\n",
       "      <th>1599995</th>\n",
       "      <td>4</td>\n",
       "      <td>2193601966</td>\n",
       "      <td>Tue Jun 16 08:40:49 PDT 2009</td>\n",
       "      <td>NO_QUERY</td>\n",
       "      <td>AmandaMarie1028</td>\n",
       "      <td>Just woke up. Having no school is the best fee...</td>\n",
       "    </tr>\n",
       "    <tr>\n",
       "      <th>1599996</th>\n",
       "      <td>4</td>\n",
       "      <td>2193601969</td>\n",
       "      <td>Tue Jun 16 08:40:49 PDT 2009</td>\n",
       "      <td>NO_QUERY</td>\n",
       "      <td>TheWDBoards</td>\n",
       "      <td>TheWDB.com - Very cool to hear old Walt interv...</td>\n",
       "    </tr>\n",
       "    <tr>\n",
       "      <th>1599997</th>\n",
       "      <td>4</td>\n",
       "      <td>2193601991</td>\n",
       "      <td>Tue Jun 16 08:40:49 PDT 2009</td>\n",
       "      <td>NO_QUERY</td>\n",
       "      <td>bpbabe</td>\n",
       "      <td>Are you ready for your MoJo Makeover? Ask me f...</td>\n",
       "    </tr>\n",
       "    <tr>\n",
       "      <th>1599998</th>\n",
       "      <td>4</td>\n",
       "      <td>2193602064</td>\n",
       "      <td>Tue Jun 16 08:40:49 PDT 2009</td>\n",
       "      <td>NO_QUERY</td>\n",
       "      <td>tinydiamondz</td>\n",
       "      <td>Happy 38th Birthday to my boo of alll time!!! ...</td>\n",
       "    </tr>\n",
       "    <tr>\n",
       "      <th>1599999</th>\n",
       "      <td>4</td>\n",
       "      <td>2193602129</td>\n",
       "      <td>Tue Jun 16 08:40:50 PDT 2009</td>\n",
       "      <td>NO_QUERY</td>\n",
       "      <td>RyanTrevMorris</td>\n",
       "      <td>happy #charitytuesday @theNSPCC @SparksCharity...</td>\n",
       "    </tr>\n",
       "  </tbody>\n",
       "</table>\n",
       "<p>1600000 rows × 6 columns</p>\n",
       "</div>"
      ],
      "text/plain": [
       "         target         ids                          date      flag  \\\n",
       "0             0  1467810369  Mon Apr 06 22:19:45 PDT 2009  NO_QUERY   \n",
       "1             0  1467810672  Mon Apr 06 22:19:49 PDT 2009  NO_QUERY   \n",
       "2             0  1467810917  Mon Apr 06 22:19:53 PDT 2009  NO_QUERY   \n",
       "3             0  1467811184  Mon Apr 06 22:19:57 PDT 2009  NO_QUERY   \n",
       "4             0  1467811193  Mon Apr 06 22:19:57 PDT 2009  NO_QUERY   \n",
       "...         ...         ...                           ...       ...   \n",
       "1599995       4  2193601966  Tue Jun 16 08:40:49 PDT 2009  NO_QUERY   \n",
       "1599996       4  2193601969  Tue Jun 16 08:40:49 PDT 2009  NO_QUERY   \n",
       "1599997       4  2193601991  Tue Jun 16 08:40:49 PDT 2009  NO_QUERY   \n",
       "1599998       4  2193602064  Tue Jun 16 08:40:49 PDT 2009  NO_QUERY   \n",
       "1599999       4  2193602129  Tue Jun 16 08:40:50 PDT 2009  NO_QUERY   \n",
       "\n",
       "                    user                                               text  \n",
       "0        _TheSpecialOne_  @switchfoot http://twitpic.com/2y1zl - Awww, t...  \n",
       "1          scotthamilton  is upset that he can't update his Facebook by ...  \n",
       "2               mattycus  @Kenichan I dived many times for the ball. Man...  \n",
       "3                ElleCTF    my whole body feels itchy and like its on fire   \n",
       "4                 Karoli  @nationwideclass no, it's not behaving at all....  \n",
       "...                  ...                                                ...  \n",
       "1599995  AmandaMarie1028  Just woke up. Having no school is the best fee...  \n",
       "1599996      TheWDBoards  TheWDB.com - Very cool to hear old Walt interv...  \n",
       "1599997           bpbabe  Are you ready for your MoJo Makeover? Ask me f...  \n",
       "1599998     tinydiamondz  Happy 38th Birthday to my boo of alll time!!! ...  \n",
       "1599999   RyanTrevMorris  happy #charitytuesday @theNSPCC @SparksCharity...  \n",
       "\n",
       "[1600000 rows x 6 columns]"
      ]
     },
     "execution_count": 59,
     "metadata": {},
     "output_type": "execute_result"
    }
   ],
   "source": [
    "DATASET_COLUMNS=['target','ids','date','flag','user','text']\n",
    "DATASET_ENCODING = \"ISO-8859-1\"\n",
    "df = pd.read_csv(\"final_project_tweets.csv\",na_filter = False, encoding=DATASET_ENCODING, names=DATASET_COLUMNS)\n",
    "df"
   ]
  },
  {
   "cell_type": "code",
   "execution_count": 60,
   "metadata": {
    "colab": {
     "base_uri": "https://localhost:8080/"
    },
    "id": "ROqwHrxk_0AC",
    "outputId": "eb153fb4-9315-4e63-bb8c-a7bf243d20e9"
   },
   "outputs": [
    {
     "name": "stdout",
     "output_type": "stream",
     "text": [
      "length of data is 1600000\n"
     ]
    }
   ],
   "source": [
    "#Get the size(length) of the data frame\n",
    "\n",
    "print('length of data is', len(df))"
   ]
  },
  {
   "cell_type": "code",
   "execution_count": 61,
   "metadata": {
    "colab": {
     "base_uri": "https://localhost:8080/"
    },
    "id": "MdhmxBiYBHCi",
    "outputId": "7b9bc6bf-ac96-45ca-f85d-086649359c3c"
   },
   "outputs": [
    {
     "data": {
      "text/plain": [
       "array([0, 4], dtype=int64)"
      ]
     },
     "execution_count": 61,
     "metadata": {},
     "output_type": "execute_result"
    }
   ],
   "source": [
    "#check the lable for the dataset,0 = negative and 4 = positive\n",
    "df['target'].unique()"
   ]
  },
  {
   "cell_type": "code",
   "execution_count": 62,
   "metadata": {
    "colab": {
     "base_uri": "https://localhost:8080/"
    },
    "id": "qgj7GDCaDDv_",
    "outputId": "b60fc6c9-5571-4fb8-d494-9de52029b41a"
   },
   "outputs": [
    {
     "data": {
      "text/html": [
       "<div>\n",
       "<style scoped>\n",
       "    .dataframe tbody tr th:only-of-type {\n",
       "        vertical-align: middle;\n",
       "    }\n",
       "\n",
       "    .dataframe tbody tr th {\n",
       "        vertical-align: top;\n",
       "    }\n",
       "\n",
       "    .dataframe thead th {\n",
       "        text-align: right;\n",
       "    }\n",
       "</style>\n",
       "<table border=\"1\" class=\"dataframe\">\n",
       "  <thead>\n",
       "    <tr style=\"text-align: right;\">\n",
       "      <th></th>\n",
       "      <th>target</th>\n",
       "      <th>ids</th>\n",
       "      <th>date</th>\n",
       "      <th>flag</th>\n",
       "      <th>user</th>\n",
       "      <th>text</th>\n",
       "    </tr>\n",
       "  </thead>\n",
       "  <tbody>\n",
       "    <tr>\n",
       "      <th>0</th>\n",
       "      <td>0</td>\n",
       "      <td>1467810369</td>\n",
       "      <td>Mon Apr 06 22:19:45 PDT 2009</td>\n",
       "      <td>NO_QUERY</td>\n",
       "      <td>_TheSpecialOne_</td>\n",
       "      <td>@switchfoot http://twitpic.com/2y1zl - Awww, t...</td>\n",
       "    </tr>\n",
       "    <tr>\n",
       "      <th>1</th>\n",
       "      <td>0</td>\n",
       "      <td>1467810672</td>\n",
       "      <td>Mon Apr 06 22:19:49 PDT 2009</td>\n",
       "      <td>NO_QUERY</td>\n",
       "      <td>scotthamilton</td>\n",
       "      <td>is upset that he can't update his Facebook by ...</td>\n",
       "    </tr>\n",
       "    <tr>\n",
       "      <th>2</th>\n",
       "      <td>0</td>\n",
       "      <td>1467810917</td>\n",
       "      <td>Mon Apr 06 22:19:53 PDT 2009</td>\n",
       "      <td>NO_QUERY</td>\n",
       "      <td>mattycus</td>\n",
       "      <td>@Kenichan I dived many times for the ball. Man...</td>\n",
       "    </tr>\n",
       "    <tr>\n",
       "      <th>3</th>\n",
       "      <td>0</td>\n",
       "      <td>1467811184</td>\n",
       "      <td>Mon Apr 06 22:19:57 PDT 2009</td>\n",
       "      <td>NO_QUERY</td>\n",
       "      <td>ElleCTF</td>\n",
       "      <td>my whole body feels itchy and like its on fire</td>\n",
       "    </tr>\n",
       "    <tr>\n",
       "      <th>4</th>\n",
       "      <td>0</td>\n",
       "      <td>1467811193</td>\n",
       "      <td>Mon Apr 06 22:19:57 PDT 2009</td>\n",
       "      <td>NO_QUERY</td>\n",
       "      <td>Karoli</td>\n",
       "      <td>@nationwideclass no, it's not behaving at all....</td>\n",
       "    </tr>\n",
       "    <tr>\n",
       "      <th>...</th>\n",
       "      <td>...</td>\n",
       "      <td>...</td>\n",
       "      <td>...</td>\n",
       "      <td>...</td>\n",
       "      <td>...</td>\n",
       "      <td>...</td>\n",
       "    </tr>\n",
       "    <tr>\n",
       "      <th>799995</th>\n",
       "      <td>0</td>\n",
       "      <td>2329205009</td>\n",
       "      <td>Thu Jun 25 10:28:28 PDT 2009</td>\n",
       "      <td>NO_QUERY</td>\n",
       "      <td>dandykim</td>\n",
       "      <td>Sick  Spending my day laying in bed listening ...</td>\n",
       "    </tr>\n",
       "    <tr>\n",
       "      <th>799996</th>\n",
       "      <td>0</td>\n",
       "      <td>2329205038</td>\n",
       "      <td>Thu Jun 25 10:28:28 PDT 2009</td>\n",
       "      <td>NO_QUERY</td>\n",
       "      <td>bigenya</td>\n",
       "      <td>Gmail is down?</td>\n",
       "    </tr>\n",
       "    <tr>\n",
       "      <th>799997</th>\n",
       "      <td>0</td>\n",
       "      <td>2329205473</td>\n",
       "      <td>Thu Jun 25 10:28:30 PDT 2009</td>\n",
       "      <td>NO_QUERY</td>\n",
       "      <td>LeeLHoke</td>\n",
       "      <td>rest in peace Farrah! So sad</td>\n",
       "    </tr>\n",
       "    <tr>\n",
       "      <th>799998</th>\n",
       "      <td>0</td>\n",
       "      <td>2329205574</td>\n",
       "      <td>Thu Jun 25 10:28:30 PDT 2009</td>\n",
       "      <td>NO_QUERY</td>\n",
       "      <td>davidlmulder</td>\n",
       "      <td>@Eric_Urbane Sounds like a rival is flagging y...</td>\n",
       "    </tr>\n",
       "    <tr>\n",
       "      <th>799999</th>\n",
       "      <td>0</td>\n",
       "      <td>2329205794</td>\n",
       "      <td>Thu Jun 25 10:28:31 PDT 2009</td>\n",
       "      <td>NO_QUERY</td>\n",
       "      <td>tpchandler</td>\n",
       "      <td>has to resit exams over summer...  wishes he w...</td>\n",
       "    </tr>\n",
       "  </tbody>\n",
       "</table>\n",
       "<p>800000 rows × 6 columns</p>\n",
       "</div>"
      ],
      "text/plain": [
       "        target         ids                          date      flag  \\\n",
       "0            0  1467810369  Mon Apr 06 22:19:45 PDT 2009  NO_QUERY   \n",
       "1            0  1467810672  Mon Apr 06 22:19:49 PDT 2009  NO_QUERY   \n",
       "2            0  1467810917  Mon Apr 06 22:19:53 PDT 2009  NO_QUERY   \n",
       "3            0  1467811184  Mon Apr 06 22:19:57 PDT 2009  NO_QUERY   \n",
       "4            0  1467811193  Mon Apr 06 22:19:57 PDT 2009  NO_QUERY   \n",
       "...        ...         ...                           ...       ...   \n",
       "799995       0  2329205009  Thu Jun 25 10:28:28 PDT 2009  NO_QUERY   \n",
       "799996       0  2329205038  Thu Jun 25 10:28:28 PDT 2009  NO_QUERY   \n",
       "799997       0  2329205473  Thu Jun 25 10:28:30 PDT 2009  NO_QUERY   \n",
       "799998       0  2329205574  Thu Jun 25 10:28:30 PDT 2009  NO_QUERY   \n",
       "799999       0  2329205794  Thu Jun 25 10:28:31 PDT 2009  NO_QUERY   \n",
       "\n",
       "                   user                                               text  \n",
       "0       _TheSpecialOne_  @switchfoot http://twitpic.com/2y1zl - Awww, t...  \n",
       "1         scotthamilton  is upset that he can't update his Facebook by ...  \n",
       "2              mattycus  @Kenichan I dived many times for the ball. Man...  \n",
       "3               ElleCTF    my whole body feels itchy and like its on fire   \n",
       "4                Karoli  @nationwideclass no, it's not behaving at all....  \n",
       "...                 ...                                                ...  \n",
       "799995         dandykim  Sick  Spending my day laying in bed listening ...  \n",
       "799996          bigenya                                    Gmail is down?   \n",
       "799997         LeeLHoke                      rest in peace Farrah! So sad   \n",
       "799998     davidlmulder  @Eric_Urbane Sounds like a rival is flagging y...  \n",
       "799999       tpchandler  has to resit exams over summer...  wishes he w...  \n",
       "\n",
       "[800000 rows x 6 columns]"
      ]
     },
     "execution_count": 62,
     "metadata": {},
     "output_type": "execute_result"
    }
   ],
   "source": [
    "#sperate the positive and negative tweets \n",
    "pos = df[df['target'] == 4]\n",
    "neg = df[df['target'] == 0]\n",
    "neg"
   ]
  },
  {
   "cell_type": "code",
   "execution_count": 63,
   "metadata": {
    "colab": {
     "base_uri": "https://localhost:8080/"
    },
    "id": "qgj7GDCaDDv_",
    "outputId": "b60fc6c9-5571-4fb8-d494-9de52029b41a"
   },
   "outputs": [
    {
     "data": {
      "text/plain": [
       "(20000, 20000)"
      ]
     },
     "execution_count": 63,
     "metadata": {},
     "output_type": "execute_result"
    }
   ],
   "source": [
    "pos_cut = pos.iloc[:int(1*len(pos)/40)]\n",
    "neg_cut = neg.iloc[:int(1*len(neg)/40)]\n",
    "len(pos_cut),len(neg_cut)"
   ]
  },
  {
   "cell_type": "code",
   "execution_count": 64,
   "metadata": {
    "colab": {
     "base_uri": "https://localhost:8080/"
    },
    "id": "qgj7GDCaDDv_",
    "outputId": "b60fc6c9-5571-4fb8-d494-9de52029b41a"
   },
   "outputs": [
    {
     "data": {
      "text/plain": [
       "(15000.0, 15000.0)"
      ]
     },
     "execution_count": 64,
     "metadata": {},
     "output_type": "execute_result"
    }
   ],
   "source": [
    "#split data set by 3/4 of it's length\n",
    "training_pos_len = 3*len(pos_cut)/4\n",
    "training_neg_len = 3*len(neg_cut)/4\n",
    "training_pos_len,training_neg_len"
   ]
  },
  {
   "cell_type": "code",
   "execution_count": 65,
   "metadata": {
    "colab": {
     "base_uri": "https://localhost:8080/"
    },
    "id": "qgj7GDCaDDv_",
    "outputId": "b60fc6c9-5571-4fb8-d494-9de52029b41a"
   },
   "outputs": [
    {
     "name": "stdout",
     "output_type": "stream",
     "text": [
      "testing positive 5000\n",
      "testing negative 5000\n",
      "\n",
      "training positive 15000\n",
      "training negative 15000\n"
     ]
    }
   ],
   "source": [
    "training_pos = pos_cut.iloc[:int(training_pos_len)]\n",
    "training_neg = neg_cut.iloc[:int(training_neg_len)]\n",
    "\n",
    "\n",
    "test_pos = pos_cut.iloc[int(training_pos_len):]\n",
    "test_neg = neg_cut.iloc[int(training_neg_len):]\n",
    "\n",
    "print('testing positive ' + str(len(test_pos)) + '\\ntesting negative ' + str(len(test_neg)))\n",
    "print('\\ntraining positive ' + str(len(training_pos)) + '\\ntraining negative ' + str(len(training_neg)))"
   ]
  },
  {
   "cell_type": "code",
   "execution_count": 66,
   "metadata": {
    "id": "9Dw8N3QzIlL0"
   },
   "outputs": [],
   "source": [
    "#combine the positive and negative dataset into training and testing set.\n",
    "train_set = pd.concat([training_pos, training_neg])\n",
    "test_set = pd.concat([test_pos, test_neg])\n",
    "#convert all text messages into lowercase for further use\n",
    "train_set['text']=train_set['text'].str.lower()\n",
    "test_set['text']=test_set['text'].str.lower()"
   ]
  },
  {
   "cell_type": "code",
   "execution_count": 67,
   "metadata": {
    "id": "KcQZLWCyLo-8"
   },
   "outputs": [],
   "source": [
    "#\n",
    "#  Input : dataframe with a column names 'text' which contains raw tweets (one per row)\n",
    "#  Output: A list of lists of tokens corrsponding to the 'text' column\n",
    "#\n",
    "# cleaning URLs\n",
    "def cleaning_URLs(data):\n",
    "    return re.sub('((www.[^s]+)|(https?://[^s]+))',' ',data)\n",
    "\n",
    "def tokenize_tweets2(tweets):\n",
    "    \"\"\"Given a df with tweets in 'text' col, this function return tokens as a list of lists\"\"\"\n",
    "    tweets['text'] = tweets['text'].apply(lambda x: cleaning_URLs(x))\n",
    "    # apply tokenize to the 'text' coolumn in the tweets df\n",
    "    tweet_tokenizer = nltk.tokenize.TweetTokenizer(preserve_case=False, reduce_len=True, strip_handles=True)\n",
    "    tokens = tweets['text'].apply(tweet_tokenizer.tokenize)\n",
    "    \n",
    "    # filter the stopwords, punctuation and miscs\n",
    "    misc = ['rt', '’', '…', '—', 'u', '”', 'w', '“', '...', '️', 'http', 'https','#']\n",
    "    to_remove = nltk.corpus.stopwords.words('english') + list(string.punctuation) + misc\n",
    "    \n",
    "    lemmatizer = WordNetLemmatizer()\n",
    "    \n",
    "    tokens = [[lemmatizer.lemmatize(token) for token in tw if token not in to_remove] for tw in tokens]      \n",
    "    return(tokens)\n",
    "\n"
   ]
  },
  {
   "cell_type": "code",
   "execution_count": 68,
   "metadata": {
    "colab": {
     "base_uri": "https://localhost:8080/"
    },
    "id": "_XgsAemNL2rz",
    "outputId": "45a25103-0367-4534-e446-1d4cc1f59a4f"
   },
   "outputs": [
    {
     "name": "stdout",
     "output_type": "stream",
     "text": [
      "30000\n"
     ]
    },
    {
     "data": {
      "text/plain": [
       "[['love', 'guy', 'r', 'best'],\n",
       " ['im',\n",
       "  'meeting',\n",
       "  'one',\n",
       "  'besties',\n",
       "  'tonight',\n",
       "  'cant',\n",
       "  'wait',\n",
       "  'girl',\n",
       "  'talk'],\n",
       " ['thanks',\n",
       "  'twitter',\n",
       "  'add',\n",
       "  'sunisa',\n",
       "  'got',\n",
       "  'meet',\n",
       "  'hin',\n",
       "  'show',\n",
       "  'dc',\n",
       "  'area',\n",
       "  'sweetheart'],\n",
       " ['sick',\n",
       "  'really',\n",
       "  'cheap',\n",
       "  'hurt',\n",
       "  'much',\n",
       "  'eat',\n",
       "  'real',\n",
       "  'food',\n",
       "  'plus',\n",
       "  'friend',\n",
       "  'make',\n",
       "  'soup'],\n",
       " ['effect', 'everyone'],\n",
       " ['tell',\n",
       "  'burst',\n",
       "  'laughing',\n",
       "  'really',\n",
       "  'loud',\n",
       "  'thanks',\n",
       "  'making',\n",
       "  'come',\n",
       "  'sulk'],\n",
       " ['thans', 'response', 'ihad', 'already', 'find', 'answer'],\n",
       " ['jealous', 'hope', 'great', 'time', 'vega', 'like', \"acm's\", 'love', 'show'],\n",
       " ['ah', 'congrats', 'mr', 'fletcher', 'finally', 'joining', 'twitter'],\n",
       " ['responded', 'stupid', 'cat', 'helping', 'type', 'forgive', 'error']]"
      ]
     },
     "execution_count": 68,
     "metadata": {},
     "output_type": "execute_result"
    }
   ],
   "source": [
    "train_tokens = tokenize_tweets2(train_set)\n",
    "print(len(train_tokens))\n",
    "train_tokens[:10]"
   ]
  },
  {
   "cell_type": "code",
   "execution_count": 69,
   "metadata": {
    "colab": {
     "base_uri": "https://localhost:8080/"
    },
    "id": "98HlTWDRPx5Q",
    "outputId": "4183395c-a0b6-41ec-bce1-24ebe6a9c634"
   },
   "outputs": [],
   "source": [
    "train_set['text'] = train_tokens\n"
   ]
  },
  {
   "cell_type": "code",
   "execution_count": 70,
   "metadata": {
    "colab": {
     "base_uri": "https://localhost:8080/"
    },
    "id": "BgiohwaBqIM3",
    "outputId": "0ec60a41-91de-4a27-9baf-267e4ff69b64"
   },
   "outputs": [
    {
     "name": "stdout",
     "output_type": "stream",
     "text": [
      "10000\n"
     ]
    },
    {
     "data": {
      "text/plain": [
       "[['en', 'alternate'],\n",
       " ['hehehe',\n",
       "  'conversation',\n",
       "  'pointing',\n",
       "  'fact',\n",
       "  'men',\n",
       "  'simple',\n",
       "  'being',\n",
       "  'simpleton'],\n",
       " ['sigh', 'wit', 'wasted', 'time'],\n",
       " ['watching', 'supernatural', 'season', '4', 'dvd', 'marathon'],\n",
       " ['even', '8am', \"i'm\", 'love', 'saturday', 'morning'],\n",
       " ['ok',\n",
       "  '..',\n",
       "  'organaut',\n",
       "  'sound',\n",
       "  'great',\n",
       "  'great',\n",
       "  'presets',\n",
       "  'vst',\n",
       "  'parameter',\n",
       "  'engine',\n",
       "  'bit',\n",
       "  'flacky',\n",
       "  ':/',\n",
       "  'guess',\n",
       "  \"i'll\",\n",
       "  'mention',\n",
       "  'vh',\n",
       "  '1',\n",
       "  'instead'],\n",
       " ['take',\n",
       "  'looong',\n",
       "  'shower',\n",
       "  'kind',\n",
       "  'body',\n",
       "  'care',\n",
       "  'getting',\n",
       "  'ready',\n",
       "  'long',\n",
       "  'night',\n",
       "  'oh',\n",
       "  'updated'],\n",
       " ['80', 'degree', 'today', 'perfect', 'wine', 'festival'],\n",
       " ['well', 'blame'],\n",
       " ['yes', 'thank', 'sharing', 'wonderful', 'thing', 'vibe']]"
      ]
     },
     "execution_count": 70,
     "metadata": {},
     "output_type": "execute_result"
    }
   ],
   "source": [
    "#tokenize the training set\n",
    "test_tokens = tokenize_tweets2(test_set)\n",
    "print(len(test_tokens))\n",
    "test_tokens[:10]"
   ]
  },
  {
   "cell_type": "code",
   "execution_count": 71,
   "metadata": {
    "colab": {
     "base_uri": "https://localhost:8080/"
    },
    "id": "WrGbJFLMqkGi",
    "outputId": "b1aec960-c112-4836-f00b-ebdb87ea0224"
   },
   "outputs": [],
   "source": [
    "#tokenize the test set\n",
    "test_set['text'] = test_tokens\n"
   ]
  },
  {
   "cell_type": "code",
   "execution_count": 72,
   "metadata": {
    "id": "HB9TAHbSrMMo"
   },
   "outputs": [],
   "source": [
    "#performance check \n",
    "def getPerformance(label,predict):\n",
    "\n",
    "    true_p = 0\n",
    "    false_p = 0\n",
    "    true_n = 0\n",
    "    false_n = 0\n",
    "    true_predict = 0\n",
    "    false_predict = 0\n",
    "    for i in range(len(label)):\n",
    "        if label[i] == predict[i] == 1:\n",
    "            true_p += 1\n",
    "            true_predict += 1\n",
    "        if label[i] == predict[i] == 0:\n",
    "            true_n += 1\n",
    "            true_predict += 1\n",
    "        if label[i] < predict[i]:\n",
    "            false_p += 1\n",
    "            false_predict += 1\n",
    "        if label[i] > predict[i]:\n",
    "            false_n += 1\n",
    "            false_predict += 1\n",
    "     \n",
    "\n",
    "    accuracy =  true_predict/(true_predict + false_predict)\n",
    "    recall = true_p/(true_p + false_n)\n",
    "    precision = true_p/(true_p + false_p)\n",
    "    print(\"Accuracy: \"+ str(accuracy)+\" Recall: \"+str(recall)+\" Precision: \"+str(precision))"
   ]
  },
  {
   "cell_type": "code",
   "execution_count": 73,
   "metadata": {},
   "outputs": [
    {
     "data": {
      "text/plain": [
       "25535"
      ]
     },
     "execution_count": 73,
     "metadata": {},
     "output_type": "execute_result"
    }
   ],
   "source": [
    "#Find all the unique words in text column of training set to create bag of words representation\n",
    "train_unique = []\n",
    "for tokens in train_set['text']:\n",
    "    for word in tokens:\n",
    "        if word not in train_unique:\n",
    "              train_unique.append(word)\n",
    "len(train_unique)"
   ]
  },
  {
   "cell_type": "code",
   "execution_count": 74,
   "metadata": {},
   "outputs": [],
   "source": [
    "#Extracting features and storing them into trainning feature matrix\n",
    "train_matrix = []\n",
    "for tokens in train_set['text']:\n",
    "    train_featurevec = []\n",
    "    for w in train_unique:\n",
    "        train_featurevec.append(tokens.count(w))\n",
    "    train_matrix.append(train_featurevec)\n"
   ]
  },
  {
   "cell_type": "code",
   "execution_count": 75,
   "metadata": {},
   "outputs": [
    {
     "data": {
      "text/plain": [
       "(30000, 25535)"
      ]
     },
     "execution_count": 75,
     "metadata": {},
     "output_type": "execute_result"
    }
   ],
   "source": [
    "len(train_matrix),len(train_matrix[0])"
   ]
  },
  {
   "cell_type": "code",
   "execution_count": 76,
   "metadata": {},
   "outputs": [
    {
     "data": {
      "text/plain": [
       "(10000, 25535)"
      ]
     },
     "execution_count": 76,
     "metadata": {},
     "output_type": "execute_result"
    }
   ],
   "source": [
    "#Extracting features and storing them into trainning feature matrix\n",
    "test_matrix = []\n",
    "for tokens in test_set['text']:\n",
    "    test_featurevec = []\n",
    "    for w in train_unique:\n",
    "        test_featurevec.append(tokens.count(w))\n",
    "    test_matrix.append(test_featurevec)\n",
    "len(test_matrix),len(test_matrix[0])"
   ]
  },
  {
   "cell_type": "code",
   "execution_count": 77,
   "metadata": {},
   "outputs": [],
   "source": [
    "from sklearn.preprocessing import StandardScaler\n",
    "from sklearn.neighbors import KNeighborsClassifier\n",
    "from sklearn import metrics\n",
    "from sklearn.metrics import classification_report, confusion_matrix"
   ]
  },
  {
   "cell_type": "code",
   "execution_count": 78,
   "metadata": {},
   "outputs": [],
   "source": [
    "acc_list = []\n",
    "rec_list = []\n",
    "prec_list = []\n",
    "f1_list = []\n",
    "k_ls = [1, 3, 5, 7, 9, 11, 13, 15, 20, 30, 40, 50, 75, 100] \n",
    "k_choices=[1, 3, 5, 7, 9, 11, 13, 15, 20, 30, 40, 50, 75, 100]"
   ]
  },
  {
   "cell_type": "code",
   "execution_count": 79,
   "metadata": {},
   "outputs": [],
   "source": [
    "def CrossValidation(num_folds, Xtr, Ytr, k_choices):  \n",
    "  \n",
    "   \n",
    "\n",
    "    X_train_folds = []\n",
    "    Y_train_folds = []\n",
    "\n",
    "\n",
    "    X_train_folds=np.array_split(Xtr,num_folds)\n",
    "    Y_train_folds=np.array_split(Ytr,num_folds)\n",
    "\n",
    "\n",
    "\n",
    "    k_to_accuracies = {}\n",
    "\n",
    "\n",
    "    for val in k_choices:\n",
    "        k_to_accuracies[val]=[]\n",
    "        for i in range(num_folds):\n",
    "            X_vali = X_train_folds[i]\n",
    "            #print('X_vali_%d'%i)\n",
    "            #print(X_vali)\n",
    "            Y_vali = Y_train_folds[i]\n",
    "            X_train = np.concatenate(X_train_folds[:i]+X_train_folds[i+1:])\n",
    "            #print('X_train_%d'%i)\n",
    "            #print(X_train)\n",
    "            Y_train = np.concatenate(Y_train_folds[:i]+Y_train_folds[i+1:])\n",
    "            classifier = KNeighborsClassifier(n_neighbors=val,algorithm='brute') #Using brute-force algorithm for quicker computation.\n",
    "            classifier.fit(X_train, Y_train) #Fitting the built-in sklearn classifier on our training data\n",
    "            predicted_label = classifier.predict(X_vali) #Making the classifier to predict on the previously unseen test data.\n",
    "            \n",
    "            accuracy_score = (metrics.accuracy_score(Y_vali,predicted_label))\n",
    "            accuracy_score = (round(accuracy_score,2))*100          \n",
    "            k_to_accuracies[val].append(accuracy_score)\n",
    "\n",
    "    \n",
    "\n",
    "\n",
    "    # Print out the computed accuracies\n",
    "    for k in sorted(k_to_accuracies):\n",
    "        for accuracy in k_to_accuracies[k]:\n",
    "            print('k = %d, accuracy = %f' % (k, accuracy))\n",
    "    return k_to_accuracies"
   ]
  },
  {
   "cell_type": "code",
   "execution_count": 80,
   "metadata": {},
   "outputs": [
    {
     "name": "stdout",
     "output_type": "stream",
     "text": [
      "k = 1, accuracy = 81.000000\n",
      "k = 1, accuracy = 78.000000\n",
      "k = 1, accuracy = 58.000000\n",
      "k = 1, accuracy = 23.000000\n",
      "k = 1, accuracy = 21.000000\n",
      "k = 3, accuracy = 83.000000\n",
      "k = 3, accuracy = 81.000000\n",
      "k = 3, accuracy = 58.000000\n",
      "k = 3, accuracy = 20.000000\n",
      "k = 3, accuracy = 18.000000\n",
      "k = 5, accuracy = 48.000000\n",
      "k = 5, accuracy = 52.000000\n",
      "k = 5, accuracy = 63.000000\n",
      "k = 5, accuracy = 39.000000\n",
      "k = 5, accuracy = 36.000000\n",
      "k = 7, accuracy = 46.000000\n",
      "k = 7, accuracy = 52.000000\n",
      "k = 7, accuracy = 63.000000\n",
      "k = 7, accuracy = 34.000000\n",
      "k = 7, accuracy = 32.000000\n",
      "k = 9, accuracy = 44.000000\n",
      "k = 9, accuracy = 51.000000\n",
      "k = 9, accuracy = 62.000000\n",
      "k = 9, accuracy = 31.000000\n",
      "k = 9, accuracy = 29.000000\n",
      "k = 11, accuracy = 42.000000\n",
      "k = 11, accuracy = 51.000000\n",
      "k = 11, accuracy = 62.000000\n",
      "k = 11, accuracy = 27.000000\n",
      "k = 11, accuracy = 27.000000\n",
      "k = 13, accuracy = 42.000000\n",
      "k = 13, accuracy = 51.000000\n",
      "k = 13, accuracy = 62.000000\n",
      "k = 13, accuracy = 26.000000\n",
      "k = 13, accuracy = 25.000000\n",
      "k = 15, accuracy = 40.000000\n",
      "k = 15, accuracy = 50.000000\n",
      "k = 15, accuracy = 61.000000\n",
      "k = 15, accuracy = 24.000000\n",
      "k = 15, accuracy = 23.000000\n",
      "k = 20, accuracy = 32.000000\n",
      "k = 20, accuracy = 43.000000\n",
      "k = 20, accuracy = 62.000000\n",
      "k = 20, accuracy = 23.000000\n",
      "k = 20, accuracy = 23.000000\n",
      "k = 30, accuracy = 29.000000\n",
      "k = 30, accuracy = 41.000000\n",
      "k = 30, accuracy = 61.000000\n",
      "k = 30, accuracy = 16.000000\n",
      "k = 30, accuracy = 17.000000\n",
      "k = 40, accuracy = 26.000000\n",
      "k = 40, accuracy = 40.000000\n",
      "k = 40, accuracy = 61.000000\n",
      "k = 40, accuracy = 12.000000\n",
      "k = 40, accuracy = 12.000000\n",
      "k = 50, accuracy = 24.000000\n",
      "k = 50, accuracy = 40.000000\n",
      "k = 50, accuracy = 60.000000\n",
      "k = 50, accuracy = 8.000000\n",
      "k = 50, accuracy = 10.000000\n",
      "k = 75, accuracy = 22.000000\n",
      "k = 75, accuracy = 43.000000\n",
      "k = 75, accuracy = 57.000000\n",
      "k = 75, accuracy = 4.000000\n",
      "k = 75, accuracy = 5.000000\n",
      "k = 100, accuracy = 18.000000\n",
      "k = 100, accuracy = 36.000000\n",
      "k = 100, accuracy = 57.000000\n",
      "k = 100, accuracy = 3.000000\n",
      "k = 100, accuracy = 3.000000\n"
     ]
    }
   ],
   "source": [
    "accuracy_ls = CrossValidation(5,train_matrix, train_set['target'].values,k_choices)"
   ]
  },
  {
   "cell_type": "code",
   "execution_count": 81,
   "metadata": {},
   "outputs": [
    {
     "data": {
      "image/png": "[encoded data removed]",
      "text/plain": [
       "<Figure size 432x288 with 1 Axes>"
      ]
     },
     "metadata": {
      "needs_background": "light"
     },
     "output_type": "display_data"
    }
   ],
   "source": [
    "%matplotlib inline\n",
    "# plot the raw observations\n",
    "for k in k_choices:\n",
    "    accuracies = accuracy_ls[k]\n",
    "    plt.scatter([k] * len(accuracies), accuracies)\n",
    "\n",
    "# plot the trend line with error bars that correspond to standard deviation\n",
    "accuracies_mean = np.array([np.mean(v) for k,v in sorted(accuracy_ls.items())])\n",
    "accuracies_std = np.array([np.std(v) for k,v in sorted(accuracy_ls.items())])\n",
    "plt.errorbar(k_choices, accuracies_mean, yerr=accuracies_std)\n",
    "plt.title('Cross-validation on k')\n",
    "plt.xlabel('k')\n",
    "plt.ylabel('Cross-validation accuracy')\n",
    "plt.show()"
   ]
  },
  {
   "cell_type": "code",
   "execution_count": 82,
   "metadata": {},
   "outputs": [
    {
     "name": "stdout",
     "output_type": "stream",
     "text": [
      "The best hyperparameter value is 1.\n"
     ]
    }
   ],
   "source": [
    "best_k = k_choices[accuracies_mean.argmax()]\n",
    "print('The best hyperparameter value is %d.' %best_k )"
   ]
  },
  {
   "cell_type": "code",
   "execution_count": 83,
   "metadata": {},
   "outputs": [],
   "source": [
    "def KNNClassifying_Performance(trainfeatures,testfeatures,best_k):\n",
    "\n",
    "    X_train = trainfeatures #train_matrix - 2D feature vector\n",
    "    X_test = testfeatures #test_matrix - 2D feature vector\n",
    "    y_train = train_set['target'].values #trained sentiment label\n",
    "    y_test = test_set['target'].values #test sentiment label\n",
    "\n",
    "    k = best_k\n",
    "\n",
    "    classifier = KNeighborsClassifier(n_neighbors=k,algorithm='brute') #Using brute-force algorithm for quicker computation.\n",
    "    classifier.fit(X_train, y_train) #Fitting the built-in sklearn classifier on our training data\n",
    "    predicted_label = classifier.predict(X_test) #Making the classifier to predict on the previously unseen test data.\n",
    "\n",
    "    accuracy_score = (metrics.accuracy_score(y_test,predicted_label))\n",
    "    accuracy_score = (round(accuracy_score,2))*100\n",
    "    acc_list.append(accuracy_score)\n",
    "\n",
    "    confusion_mat = confusion_matrix(y_test, predicted_label)\n",
    "    class_report = classification_report(y_test, predicted_label)\n",
    "\n",
    "    macro_precision = (metrics.precision_score(y_test, predicted_label, average='macro'))\n",
    "    macro_precision = (round(macro_precision,2))*100\n",
    "    prec_list.append(macro_precision)\n",
    "\n",
    "    macro_recall = (metrics.recall_score(y_test, predicted_label, average='macro'))\n",
    "    macro_recall = (round(macro_recall,2))*100\n",
    "    rec_list.append(macro_recall)\n",
    "\n",
    "    macro_f1 = (metrics.f1_score(y_test, predicted_label, average='macro'))\n",
    "    macro_f1 = (round(macro_f1,2))*100\n",
    "    f1_list.append(macro_f1)\n",
    "\n",
    "    print(\"\\n\\nConfusion Matrix for k = {} is:\\n\".format(k))\n",
    "    print(confusion_mat)\n",
    "    print(\"\\nClassification Report for k = {} is:\\n\".format(k))\n",
    "    print(class_report)"
   ]
  },
  {
   "cell_type": "code",
   "execution_count": 84,
   "metadata": {},
   "outputs": [
    {
     "name": "stdout",
     "output_type": "stream",
     "text": [
      "\n",
      "\n",
      "Confusion Matrix for k = 1 is:\n",
      "\n",
      "[[1508 3492]\n",
      " [ 607 4393]]\n",
      "\n",
      "Classification Report for k = 1 is:\n",
      "\n",
      "              precision    recall  f1-score   support\n",
      "\n",
      "           0       0.71      0.30      0.42      5000\n",
      "           4       0.56      0.88      0.68      5000\n",
      "\n",
      "    accuracy                           0.59     10000\n",
      "   macro avg       0.64      0.59      0.55     10000\n",
      "weighted avg       0.64      0.59      0.55     10000\n",
      "\n",
      "CPU times: total: 8min 6s\n",
      "Wall time: 2min 22s\n"
     ]
    }
   ],
   "source": [
    "%%time\n",
    "KNNClassifying_Performance(train_matrix,test_matrix,best_k)"
   ]
  }
 ],
 "metadata": {
  "colab": {
   "provenance": []
  },
  "kernelspec": {
   "display_name": "Python 3 (ipykernel)",
   "language": "python",
   "name": "python3"
  },
  "language_info": {
   "codemirror_mode": {
    "name": "ipython",
    "version": 3
   },
   "file_extension": ".py",
   "mimetype": "text/x-python",
   "name": "python",
   "nbconvert_exporter": "python",
   "pygments_lexer": "ipython3",
   "version": "3.9.12"
  }
 },
 "nbformat": 4,
 "nbformat_minor": 1
}
